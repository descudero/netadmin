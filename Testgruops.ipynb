{
 "cells": [
  {
   "cell_type": "code",
   "execution_count": 2,
   "metadata": {
    "collapsed": false
   },
   "outputs": [],
   "source": [
    "from CiscoIOS import CiscoIOS\n",
    "from CiscoXR import CiscoXR\n",
    "from Master import Master\n",
    "master = Master(password=\"zekto2014-\",username=\"descudero\")\n",
    "pba = CiscoIOS(\"10.192.33.72\",\"PBA_PE\",master)\n",
    "pba_ipp = CiscoXR(\"10.192.33.173\",\"PBA_IPP\",master)\n",
    "\n"
   ]
  },
  {
   "cell_type": "code",
   "execution_count": 3,
   "metadata": {
    "collapsed": false
   },
   "outputs": [
    {
     "name": "stdout",
     "output_type": "stream",
     "text": [
      "telnet conected PBA_PE\n",
      "show run | i hostname\n",
      "hostname IPBAGTPBN1D1ECM1 esta es una linea\n",
      "IPBAGTPBN1D1ECM1# este es el hostname\n",
      "terminal len 0\n",
      "show mpls interfaces detail\n"
     ]
    }
   ],
   "source": [
    "output = pba.set_mpls_ldp_interface()"
   ]
  },
  {
   "cell_type": "code",
   "execution_count": 17,
   "metadata": {
    "collapsed": false
   },
   "outputs": [
    {
     "data": {
      "text/plain": [
       "['',\n",
       " ' TenGigabitEthernet1/1:\\nIP labeling enabled (ldp):\\n  interface config\\nLSP Tunnel labeling not enabled\\nBGP labeling not enabled\\nMPLS operational\\nMTU = 9216\\n',\n",
       " ' TenGigabitEthernet2/1:\\nIP labeling enabled (ldp):\\n  interface config\\nLSP Tunnel labeling not enabled\\nBGP labeling not enabled\\nMPLS operational\\nMTU = 9216\\n',\n",
       " ' GigabitEthernet3/8:\\nIP labeling enabled \\nLSP Tunnel labeling not enabled\\nBGP labeling not enabled\\nMPLS operational\\nMTU = 2000\\n',\n",
       " ' Vlan1466:\\nIP labeling enabled (ldp):\\n  interface config\\nLSP Tunnel labeling not enabled\\nBGP labeling not enabled\\nMPLS operational\\nMTU = 9216\\n',\n",
       " ' Vlan2500:\\nIP labeling enabled \\nLSP Tunnel labeling not enabled\\nBGP labeling not enabled\\nMPLS operational\\nMTU = 9216']"
      ]
     },
     "execution_count": 17,
     "metadata": {},
     "output_type": "execute_result"
    }
   ],
   "source": [
    "mpls_interfaces = output.replace(\"\\t\",\"\").replace(\"Interface config\",\"interface config\").split(\"Interface\")\n",
    "mpls_interfaces"
   ]
  },
  {
   "cell_type": "code",
   "execution_count": 14,
   "metadata": {
    "collapsed": false
   },
   "outputs": [
    {
     "data": {
      "text/plain": [
       "'Interface TenGigabitEthernet1/1:\\n\\tIP labeling enabled (ldp):\\n\\t  Interface config\\n\\tLSP Tunnel labeling not enabled\\n\\tBGP labeling not enabled\\n\\tMPLS operational\\n\\tMTU = 9216\\nInterface TenGigabitEthernet2/1:\\n\\tIP labeling enabled (ldp):\\n\\t  Interface config\\n\\tLSP Tunnel labeling not enabled\\n\\tBGP labeling not enabled\\n\\tMPLS operational\\n\\tMTU = 9216\\nInterface GigabitEthernet3/8:\\n\\tIP labeling enabled \\n\\tLSP Tunnel labeling not enabled\\n\\tBGP labeling not enabled\\n\\tMPLS operational\\n\\tMTU = 2000\\nInterface Vlan1466:\\n\\tIP labeling enabled (ldp):\\n\\t  Interface config\\n\\tLSP Tunnel labeling not enabled\\n\\tBGP labeling not enabled\\n\\tMPLS operational\\n\\tMTU = 9216\\nInterface Vlan2500:\\n\\tIP labeling enabled \\n\\tLSP Tunnel labeling not enabled\\n\\tBGP labeling not enabled\\n\\tMPLS operational\\n\\tMTU = 9216'"
      ]
     },
     "execution_count": 14,
     "metadata": {},
     "output_type": "execute_result"
    }
   ],
   "source": [
    "output"
   ]
  },
  {
   "cell_type": "code",
   "execution_count": 18,
   "metadata": {
    "collapsed": false
   },
   "outputs": [
    {
     "name": "stdout",
     "output_type": "stream",
     "text": [
      "[' TenGigabitEthernet1/1:', 'IP labeling enabled (ldp):', '  interface config', 'LSP Tunnel labeling not enabled', 'BGP labeling not enabled', 'MPLS operational', 'MTU = 9216', '']\n",
      "[' TenGigabitEthernet2/1:', 'IP labeling enabled (ldp):', '  interface config', 'LSP Tunnel labeling not enabled', 'BGP labeling not enabled', 'MPLS operational', 'MTU = 9216', '']\n",
      "[' GigabitEthernet3/8:', 'IP labeling enabled ', 'LSP Tunnel labeling not enabled', 'BGP labeling not enabled', 'MPLS operational', 'MTU = 2000', '']\n",
      "[' Vlan1466:', 'IP labeling enabled (ldp):', '  interface config', 'LSP Tunnel labeling not enabled', 'BGP labeling not enabled', 'MPLS operational', 'MTU = 9216', '']\n",
      "[' Vlan2500:', 'IP labeling enabled ', 'LSP Tunnel labeling not enabled', 'BGP labeling not enabled', 'MPLS operational', 'MTU = 9216']\n"
     ]
    }
   ],
   "source": [
    "for mpls_interface in mpls_interfaces:\n",
    "    if mpls_interface.find(\"labeling\")>0:\n",
    "        mpls_interface={}\n",
    "        lines = mpls_interface.split(\"\\n\")\n",
    "        \n",
    "        print(lines)\n",
    "        \n"
   ]
  },
  {
   "cell_type": "code",
   "execution_count": null,
   "metadata": {
    "collapsed": true
   },
   "outputs": [],
   "source": []
  },
  {
   "cell_type": "code",
   "execution_count": null,
   "metadata": {
    "collapsed": true
   },
   "outputs": [],
   "source": []
  }
 ],
 "metadata": {
  "kernelspec": {
   "display_name": "Python 3",
   "language": "python",
   "name": "python3"
  },
  "language_info": {
   "codemirror_mode": {
    "name": "ipython",
    "version": 3
   },
   "file_extension": ".py",
   "mimetype": "text/x-python",
   "name": "python",
   "nbconvert_exporter": "python",
   "pygments_lexer": "ipython3",
   "version": "3.6.0"
  }
 },
 "nbformat": 4,
 "nbformat_minor": 2
}
